{
 "cells": [
  {
   "cell_type": "code",
   "execution_count": 10,
   "metadata": {},
   "outputs": [
    {
     "name": "stdout",
     "output_type": "stream",
     "text": [
      "Frame 0 saved as C:\\Users\\Justin Joseph\\OneDrive\\Desktop\\Project\\ANPR\\Plate_examples\\frame_0.jpg\n",
      "Frame 50 saved as C:\\Users\\Justin Joseph\\OneDrive\\Desktop\\Project\\ANPR\\Plate_examples\\frame_50.jpg\n",
      "Frame 100 saved as C:\\Users\\Justin Joseph\\OneDrive\\Desktop\\Project\\ANPR\\Plate_examples\\frame_100.jpg\n",
      "Frame 150 saved as C:\\Users\\Justin Joseph\\OneDrive\\Desktop\\Project\\ANPR\\Plate_examples\\frame_150.jpg\n",
      "Frame 200 saved as C:\\Users\\Justin Joseph\\OneDrive\\Desktop\\Project\\ANPR\\Plate_examples\\frame_200.jpg\n",
      "Frame 250 saved as C:\\Users\\Justin Joseph\\OneDrive\\Desktop\\Project\\ANPR\\Plate_examples\\frame_250.jpg\n",
      "Frame 300 saved as C:\\Users\\Justin Joseph\\OneDrive\\Desktop\\Project\\ANPR\\Plate_examples\\frame_300.jpg\n",
      "Frame 350 saved as C:\\Users\\Justin Joseph\\OneDrive\\Desktop\\Project\\ANPR\\Plate_examples\\frame_350.jpg\n",
      "Frame 400 saved as C:\\Users\\Justin Joseph\\OneDrive\\Desktop\\Project\\ANPR\\Plate_examples\\frame_400.jpg\n",
      "Frame capture completed.\n"
     ]
    }
   ],
   "source": [
    "import cv2\n",
    "import os\n",
    "\n",
    "def capture_frames(video_path, output_directory, frame_interval=1):\n",
    "    \"\"\"\n",
    "    Capture frames from a video at specified intervals and save them as images.\n",
    "\n",
    "    Args:\n",
    "        video_path (str): Path to the input video file.\n",
    "        output_directory (str): Directory to save the captured frames.\n",
    "        frame_interval (int, optional): Interval between captured frames (default is 1).\n",
    "    \"\"\"\n",
    "    # Create output directory if it doesn't exist\n",
    "    if not os.path.exists(output_directory):\n",
    "        os.makedirs(output_directory)\n",
    "\n",
    "    # Open the video file\n",
    "    cap = cv2.VideoCapture(video_path)\n",
    "\n",
    "    # Initialize frame count\n",
    "    frame_count = 0\n",
    "\n",
    "    # Read the video frame by frame\n",
    "    while True:\n",
    "        ret, frame = cap.read()\n",
    "\n",
    "        # Break the loop when no more frames are available\n",
    "        if not ret:\n",
    "            break\n",
    "\n",
    "        # Save the frame if it's the desired interval frame\n",
    "        if frame_count % frame_interval == 0:\n",
    "            # Construct the filename for the saved frame\n",
    "            filename = os.path.join(output_directory, f\"frame_{frame_count}.jpg\")\n",
    "\n",
    "            # Save the frame as an image\n",
    "            cv2.imwrite(filename, frame)\n",
    "\n",
    "            print(f\"Frame {frame_count} saved as {filename}\")\n",
    "\n",
    "        # Increment the frame count\n",
    "        frame_count += 1\n",
    "\n",
    "    # Release the video capture object\n",
    "    cap.release()\n",
    "\n",
    "    print(\"Frame capture completed.\")\n",
    "\n",
    "# Example usage:\n",
    "video_path = r'C:\\Users\\Justin Joseph\\OneDrive\\Desktop\\Project\\ANPR\\Plate_examples\\gg.mp4'\n",
    "output_directory = r'C:\\Users\\Justin Joseph\\OneDrive\\Desktop\\Project\\ANPR\\Plate_examples'\n",
    "capture_frames(video_path, output_directory, frame_interval=50)  # Adjust parameters as needed\n"
   ]
  }
 ],
 "metadata": {
  "kernelspec": {
   "display_name": "base",
   "language": "python",
   "name": "python3"
  },
  "language_info": {
   "codemirror_mode": {
    "name": "ipython",
    "version": 3
   },
   "file_extension": ".py",
   "mimetype": "text/x-python",
   "name": "python",
   "nbconvert_exporter": "python",
   "pygments_lexer": "ipython3",
   "version": "3.11.5"
  }
 },
 "nbformat": 4,
 "nbformat_minor": 2
}
