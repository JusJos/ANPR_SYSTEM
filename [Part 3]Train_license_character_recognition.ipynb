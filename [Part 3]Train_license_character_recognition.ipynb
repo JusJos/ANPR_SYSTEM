{
 "cells": [
  {
   "cell_type": "markdown",
   "metadata": {
    "colab_type": "text",
    "id": "GxW3Qg-ScurV"
   },
   "source": [
    "#### This notebook is used to train a character recongition from input image using MobileNets "
   ]
  },
  {
   "cell_type": "code",
   "execution_count": 2,
   "metadata": {
    "colab": {
     "base_uri": "https://localhost:8080/",
     "height": 35
    },
    "colab_type": "code",
    "id": "XJmrQrB_curX",
    "outputId": "5a4bee5b-8c58-41bb-cd70-ff9ffa406ff9"
   },
   "outputs": [],
   "source": [
    "# ignore warning \n",
    "import os\n",
    "os.environ['TF_CPP_MIN_LOG_LEVEL'] = '3'\n",
    "\n",
    "from keras.preprocessing.image import ImageDataGenerator\n",
    "from tensorflow.keras.applications.mobilenet_v2 import MobileNetV2\n",
    "from keras.layers import AveragePooling2D\n",
    "from keras.layers import Dropout\n",
    "from keras.layers import Flatten\n",
    "from keras.layers import Dense\n",
    "from keras.layers import Input\n",
    "from keras.models import Model\n",
    "from tensorflow.keras.optimizers import Adam\n",
    "from keras.preprocessing.image import img_to_array\n",
    "from keras.preprocessing.image import load_img\n",
    "from tensorflow.keras.utils import to_categorical\n",
    "from keras.callbacks import ModelCheckpoint, EarlyStopping\n",
    "from keras.models import model_from_json\n",
    "from sklearn.preprocessing import LabelEncoder\n",
    "from sklearn.model_selection import train_test_split\n",
    "import matplotlib.pyplot as plt\n",
    "import matplotlib.gridspec as gridspec\n",
    "import glob\n",
    "import numpy as np"
   ]
  },
  {
   "cell_type": "markdown",
   "metadata": {
    "colab_type": "text",
    "id": "z8ApWHt8curj"
   },
   "source": [
    "### Visualize dataset"
   ]
  },
  {
   "cell_type": "code",
   "execution_count": 3,
   "metadata": {
    "colab": {
     "base_uri": "https://localhost:8080/",
     "height": 479
    },
    "colab_type": "code",
    "id": "-y1mnjyPcurk",
    "outputId": "de256a8f-5bb5-47c7-91c5-b29832539766",
    "scrolled": false
   },
   "outputs": [
    {
     "data": {
      "image/png": "[encoded data removed]",
      "text/plain": [
       "<Figure size 1000x800 with 12 Axes>"
      ]
     },
     "metadata": {},
     "output_type": "display_data"
    }
   ],
   "source": [
    "dataset_paths = glob.glob(\"dataset_characters/**/*.jpg\")\n",
    "cols=4\n",
    "rows=3\n",
    "fig = plt.figure(figsize=(10,8))\n",
    "plt.rcParams.update({\"font.size\":14})\n",
    "grid = gridspec.GridSpec(ncols=cols,nrows=rows,figure=fig)\n",
    "\n",
    "# create a random list of images will be displayed\n",
    "np.random.seed(45)\n",
    "rand = np.random.randint(0,len(dataset_paths),size=(cols*rows))\n",
    "\n",
    "# Plot image\n",
    "for i in range(cols*rows):\n",
    "    fig.add_subplot(grid[i])\n",
    "    image = load_img(dataset_paths[rand[i]])\n",
    "    label = dataset_paths[rand[i]].split(os.path.sep)[-2]\n",
    "    plt.title('\"{:s}\"'.format(label))\n",
    "    plt.axis(False)\n",
    "    plt.imshow(image)\n",
    "\n",
    "plt.savefig(\"Visualize_dataset.jpg\",dpi=300)    \n"
   ]
  },
  {
   "cell_type": "markdown",
   "metadata": {
    "colab_type": "text",
    "id": "LJzYBWt3bzAj"
   },
   "source": [
    "## Data pre-processing"
   ]
  },
  {
   "cell_type": "code",
   "execution_count": 4,
   "metadata": {
    "colab": {
     "base_uri": "https://localhost:8080/",
     "height": 35
    },
    "colab_type": "code",
    "id": "Yh443FGFRgFP",
    "outputId": "2fdc22f4-e393-4ae1-bb86-d5fb55ed1865"
   },
   "outputs": [
    {
     "name": "stdout",
     "output_type": "stream",
     "text": [
      "[INFO] Find 37623 images with 36 classes\n"
     ]
    }
   ],
   "source": [
    "# Arange input data and corresponding labels\n",
    "X=[]\n",
    "labels=[]\n",
    "\n",
    "for image_path in dataset_paths:\n",
    "  label = image_path.split(os.path.sep)[-2]\n",
    "  image=load_img(image_path,target_size=(80,80))\n",
    "  image=img_to_array(image)\n",
    "\n",
    "  X.append(image)\n",
    "  labels.append(label)\n",
    "\n",
    "X = np.array(X,dtype=\"float16\")\n",
    "labels = np.array(labels)\n",
    "\n",
    "print(\"[INFO] Find {:d} images with {:d} classes\".format(len(X),len(set(labels))))\n",
    "\n",
    "\n",
    "# perform one-hot encoding on the labels\n",
    "lb = LabelEncoder()\n",
    "lb.fit(labels)\n",
    "labels = lb.transform(labels)\n",
    "y = to_categorical(labels)\n",
    "\n",
    "# save label file so we can use in another script\n",
    "np.save('license_character_classes.npy', lb.classes_)"
   ]
  },
  {
   "cell_type": "code",
   "execution_count": 5,
   "metadata": {
    "colab": {},
    "colab_type": "code",
    "id": "AOHM-oeWSsPd"
   },
   "outputs": [],
   "source": [
    "# split 30% of data as validation set\n",
    "(trainX, testX, trainY, testY) = train_test_split(X, y, test_size=0.30, stratify=y, random_state=42)"
   ]
  },
  {
   "cell_type": "code",
   "execution_count": 6,
   "metadata": {
    "colab": {},
    "colab_type": "code",
    "id": "1DfUhlOTcurq"
   },
   "outputs": [],
   "source": [
    "# data augumentation\n",
    "image_gen = ImageDataGenerator(rotation_range=10,\n",
    "                              width_shift_range=0.1,\n",
    "                              height_shift_range=0.1,\n",
    "                              shear_range=0.1,\n",
    "                              zoom_range=0.1,\n",
    "                              fill_mode=\"nearest\"\n",
    "                              )"
   ]
  },
  {
   "cell_type": "markdown",
   "metadata": {
    "colab_type": "text",
    "id": "vNMFc03Mb45i"
   },
   "source": [
    "## Initialize MobileNets architecture with pre-trained weight"
   ]
  },
  {
   "cell_type": "code",
   "execution_count": 7,
   "metadata": {
    "colab": {},
    "colab_type": "code",
    "id": "AaemgepFcur0"
   },
   "outputs": [],
   "source": [
    "# Create our model with pre-trained MobileNetV2 architecture from imagenet\n",
    "from tensorflow.keras.optimizers import Adam\n",
    "\n",
    "# Create our model with pre-trained MobileNetV2 architecture from imagenet\n",
    "from tensorflow.keras.optimizers import Adam\n",
    "from tensorflow.keras.optimizers.schedules import ExponentialDecay\n",
    "\n",
    "# Create our model with pre-trained MobileNetV2 architecture from imagenet\n",
    "def create_model(learning_rate=1e-4, decay_steps=10000, decay_rate=0.9, training=False, output_shape=y.shape[1]):\n",
    "    baseModel = MobileNetV2(weights=\"imagenet\",\n",
    "                            include_top=False,\n",
    "                            input_tensor=Input(shape=(80, 80, 3)))\n",
    "\n",
    "    headModel = baseModel.output\n",
    "    headModel = AveragePooling2D(pool_size=(3, 3))(headModel)\n",
    "    headModel = Flatten(name=\"flatten\")(headModel)\n",
    "    headModel = Dense(128, activation=\"relu\")(headModel)\n",
    "    headModel = Dropout(0.5)(headModel)\n",
    "    headModel = Dense(output_shape, activation=\"softmax\")(headModel)\n",
    "\n",
    "    model = Model(inputs=baseModel.input, outputs=headModel)\n",
    "\n",
    "    if training:\n",
    "        # Define trainable layers\n",
    "        for layer in baseModel.layers:\n",
    "            layer.trainable = True\n",
    "\n",
    "        # Create a learning rate schedule with exponential decay\n",
    "        learning_rate_schedule = ExponentialDecay(\n",
    "            initial_learning_rate=learning_rate,\n",
    "            decay_steps=decay_steps,\n",
    "            decay_rate=decay_rate\n",
    "        )\n",
    "\n",
    "        # Create an optimizer with the learning rate schedule\n",
    "        optimizer = Adam(learning_rate=learning_rate_schedule)\n",
    "        \n",
    "        model.compile(loss=\"categorical_crossentropy\", optimizer=optimizer, metrics=[\"accuracy\"])\n",
    "\n",
    "    return model\n",
    "\n"
   ]
  },
  {
   "cell_type": "code",
   "execution_count": 8,
   "metadata": {
    "colab": {
     "base_uri": "https://localhost:8080/",
     "height": 108
    },
    "colab_type": "code",
    "id": "-B5O6zG_cur5",
    "outputId": "83bfaffb-85bd-4219-da8e-ed68d7c656ad"
   },
   "outputs": [
    {
     "name": "stdout",
     "output_type": "stream",
     "text": [
      "WARNING:tensorflow:`input_shape` is undefined or non-square, or `rows` is not in [96, 128, 160, 192, 224]. Weights for input shape (224, 224) will be loaded as the default.\n"
     ]
    }
   ],
   "source": [
    "# initilaize initial hyperparameter\n",
    "from tensorflow.keras.optimizers import Adam\n",
    "\n",
    "# Initialize initial hyperparameters\n",
    "INIT_LR = 1e-4\n",
    "EPOCHS = 30\n",
    "\n",
    "model = create_model(learning_rate=INIT_LR, training=True)\n"
   ]
  },
  {
   "cell_type": "markdown",
   "metadata": {
    "colab_type": "text",
    "id": "JR0L3nWgb-gK"
   },
   "source": [
    "## Train model"
   ]
  },
  {
   "cell_type": "code",
   "execution_count": 9,
   "metadata": {
    "colab": {
     "base_uri": "https://localhost:8080/",
     "height": 1000
    },
    "colab_type": "code",
    "id": "4d4NQLwDcusA",
    "outputId": "29c5fad5-3f23-427c-f04c-01af2a140e40"
   },
   "outputs": [
    {
     "name": "stdout",
     "output_type": "stream",
     "text": [
      "Epoch 1/30\n",
      "411/411 [==============================] - ETA: 0s - loss: 1.7997 - accuracy: 0.5331WARNING:tensorflow:Your input ran out of data; interrupting training. Make sure that your dataset or generator can generate at least `steps_per_epoch * epochs` batches (in this case, 176 batches). You may need to use the repeat() function when building your dataset.\n",
      "\n",
      "Epoch 1: saving model to License_character_recognition.h5\n",
      "411/411 [==============================] - 743s 2s/step - loss: 1.7997 - accuracy: 0.5331 - val_loss: 1.8169 - val_accuracy: 0.5386\n",
      "Epoch 2/30\n",
      "411/411 [==============================] - ETA: 0s - loss: 0.4913 - accuracy: 0.8714WARNING:tensorflow:Early stopping conditioned on metric `val_loss` which is not available. Available metrics are: loss,accuracy\n",
      "\n",
      "Epoch 2: saving model to License_character_recognition.h5\n",
      "411/411 [==============================] - 653s 2s/step - loss: 0.4913 - accuracy: 0.8714\n",
      "Epoch 3/30\n",
      "411/411 [==============================] - ETA: 0s - loss: 0.3375 - accuracy: 0.9091WARNING:tensorflow:Early stopping conditioned on metric `val_loss` which is not available. Available metrics are: loss,accuracy\n",
      "\n",
      "Epoch 3: saving model to License_character_recognition.h5\n",
      "411/411 [==============================] - 639s 2s/step - loss: 0.3375 - accuracy: 0.9091\n",
      "Epoch 4/30\n",
      "411/411 [==============================] - ETA: 0s - loss: 0.2551 - accuracy: 0.9311WARNING:tensorflow:Early stopping conditioned on metric `val_loss` which is not available. Available metrics are: loss,accuracy\n",
      "\n",
      "Epoch 4: saving model to License_character_recognition.h5\n",
      "411/411 [==============================] - 638s 2s/step - loss: 0.2551 - accuracy: 0.9311\n",
      "Epoch 5/30\n",
      "411/411 [==============================] - ETA: 0s - loss: 0.2218 - accuracy: 0.9388WARNING:tensorflow:Early stopping conditioned on metric `val_loss` which is not available. Available metrics are: loss,accuracy\n",
      "\n",
      "Epoch 5: saving model to License_character_recognition.h5\n",
      "411/411 [==============================] - 638s 2s/step - loss: 0.2218 - accuracy: 0.9388\n",
      "Epoch 6/30\n",
      "411/411 [==============================] - ETA: 0s - loss: 0.1866 - accuracy: 0.9468WARNING:tensorflow:Early stopping conditioned on metric `val_loss` which is not available. Available metrics are: loss,accuracy\n",
      "\n",
      "Epoch 6: saving model to License_character_recognition.h5\n",
      "411/411 [==============================] - 631s 2s/step - loss: 0.1866 - accuracy: 0.9468\n",
      "Epoch 7/30\n",
      "411/411 [==============================] - ETA: 0s - loss: 0.1634 - accuracy: 0.9528WARNING:tensorflow:Early stopping conditioned on metric `val_loss` which is not available. Available metrics are: loss,accuracy\n",
      "\n",
      "Epoch 7: saving model to License_character_recognition.h5\n",
      "411/411 [==============================] - 625s 2s/step - loss: 0.1634 - accuracy: 0.9528\n",
      "Epoch 8/30\n",
      "411/411 [==============================] - ETA: 0s - loss: 0.1540 - accuracy: 0.9558WARNING:tensorflow:Early stopping conditioned on metric `val_loss` which is not available. Available metrics are: loss,accuracy\n",
      "\n",
      "Epoch 8: saving model to License_character_recognition.h5\n",
      "411/411 [==============================] - 615s 1s/step - loss: 0.1540 - accuracy: 0.9558\n",
      "Epoch 9/30\n",
      "411/411 [==============================] - ETA: 0s - loss: 0.1442 - accuracy: 0.9566WARNING:tensorflow:Early stopping conditioned on metric `val_loss` which is not available. Available metrics are: loss,accuracy\n",
      "\n",
      "Epoch 9: saving model to License_character_recognition.h5\n",
      "411/411 [==============================] - 601s 1s/step - loss: 0.1442 - accuracy: 0.9566\n",
      "Epoch 10/30\n",
      "411/411 [==============================] - ETA: 0s - loss: 0.1296 - accuracy: 0.9616WARNING:tensorflow:Early stopping conditioned on metric `val_loss` which is not available. Available metrics are: loss,accuracy\n",
      "\n",
      "Epoch 10: saving model to License_character_recognition.h5\n",
      "411/411 [==============================] - 597s 1s/step - loss: 0.1296 - accuracy: 0.9616\n",
      "Epoch 11/30\n",
      "411/411 [==============================] - ETA: 0s - loss: 0.1204 - accuracy: 0.9645WARNING:tensorflow:Early stopping conditioned on metric `val_loss` which is not available. Available metrics are: loss,accuracy\n",
      "\n",
      "Epoch 11: saving model to License_character_recognition.h5\n",
      "411/411 [==============================] - 602s 1s/step - loss: 0.1204 - accuracy: 0.9645\n",
      "Epoch 12/30\n",
      "411/411 [==============================] - ETA: 0s - loss: 0.1137 - accuracy: 0.9656WARNING:tensorflow:Early stopping conditioned on metric `val_loss` which is not available. Available metrics are: loss,accuracy\n",
      "\n",
      "Epoch 12: saving model to License_character_recognition.h5\n",
      "411/411 [==============================] - 617s 2s/step - loss: 0.1137 - accuracy: 0.9656\n",
      "Epoch 13/30\n",
      "411/411 [==============================] - ETA: 0s - loss: 0.1064 - accuracy: 0.9684WARNING:tensorflow:Early stopping conditioned on metric `val_loss` which is not available. Available metrics are: loss,accuracy\n",
      "\n",
      "Epoch 13: saving model to License_character_recognition.h5\n",
      "411/411 [==============================] - 611s 1s/step - loss: 0.1064 - accuracy: 0.9684\n",
      "Epoch 14/30\n",
      "411/411 [==============================] - ETA: 0s - loss: 0.1038 - accuracy: 0.9693WARNING:tensorflow:Early stopping conditioned on metric `val_loss` which is not available. Available metrics are: loss,accuracy\n",
      "\n",
      "Epoch 14: saving model to License_character_recognition.h5\n",
      "411/411 [==============================] - 597s 1s/step - loss: 0.1038 - accuracy: 0.9693\n",
      "Epoch 15/30\n",
      "411/411 [==============================] - ETA: 0s - loss: 0.0973 - accuracy: 0.9702WARNING:tensorflow:Early stopping conditioned on metric `val_loss` which is not available. Available metrics are: loss,accuracy\n",
      "\n",
      "Epoch 15: saving model to License_character_recognition.h5\n",
      "411/411 [==============================] - 601s 1s/step - loss: 0.0973 - accuracy: 0.9702\n",
      "Epoch 16/30\n",
      "411/411 [==============================] - ETA: 0s - loss: 0.0898 - accuracy: 0.9731WARNING:tensorflow:Early stopping conditioned on metric `val_loss` which is not available. Available metrics are: loss,accuracy\n",
      "\n",
      "Epoch 16: saving model to License_character_recognition.h5\n",
      "411/411 [==============================] - 600s 1s/step - loss: 0.0898 - accuracy: 0.9731\n",
      "Epoch 17/30\n",
      "411/411 [==============================] - ETA: 0s - loss: 0.0860 - accuracy: 0.9732WARNING:tensorflow:Early stopping conditioned on metric `val_loss` which is not available. Available metrics are: loss,accuracy\n",
      "\n",
      "Epoch 17: saving model to License_character_recognition.h5\n",
      "411/411 [==============================] - 598s 1s/step - loss: 0.0860 - accuracy: 0.9732\n",
      "Epoch 18/30\n",
      "411/411 [==============================] - ETA: 0s - loss: 0.0853 - accuracy: 0.9737WARNING:tensorflow:Early stopping conditioned on metric `val_loss` which is not available. Available metrics are: loss,accuracy\n",
      "\n",
      "Epoch 18: saving model to License_character_recognition.h5\n",
      "411/411 [==============================] - 605s 1s/step - loss: 0.0853 - accuracy: 0.9737\n",
      "Epoch 19/30\n",
      "411/411 [==============================] - ETA: 0s - loss: 0.0806 - accuracy: 0.9742WARNING:tensorflow:Early stopping conditioned on metric `val_loss` which is not available. Available metrics are: loss,accuracy\n",
      "\n",
      "Epoch 19: saving model to License_character_recognition.h5\n",
      "411/411 [==============================] - 603s 1s/step - loss: 0.0806 - accuracy: 0.9742\n",
      "Epoch 20/30\n",
      "411/411 [==============================] - ETA: 0s - loss: 0.0819 - accuracy: 0.9755WARNING:tensorflow:Early stopping conditioned on metric `val_loss` which is not available. Available metrics are: loss,accuracy\n",
      "\n",
      "Epoch 20: saving model to License_character_recognition.h5\n",
      "411/411 [==============================] - 603s 1s/step - loss: 0.0819 - accuracy: 0.9755\n",
      "Epoch 21/30\n",
      "411/411 [==============================] - ETA: 0s - loss: 0.0719 - accuracy: 0.9767WARNING:tensorflow:Early stopping conditioned on metric `val_loss` which is not available. Available metrics are: loss,accuracy\n",
      "\n",
      "Epoch 21: saving model to License_character_recognition.h5\n",
      "411/411 [==============================] - 599s 1s/step - loss: 0.0719 - accuracy: 0.9767\n",
      "Epoch 22/30\n",
      "411/411 [==============================] - ETA: 0s - loss: 0.0696 - accuracy: 0.9771WARNING:tensorflow:Early stopping conditioned on metric `val_loss` which is not available. Available metrics are: loss,accuracy\n",
      "\n",
      "Epoch 22: saving model to License_character_recognition.h5\n",
      "411/411 [==============================] - 600s 1s/step - loss: 0.0696 - accuracy: 0.9771\n",
      "Epoch 23/30\n",
      "411/411 [==============================] - ETA: 0s - loss: 0.0694 - accuracy: 0.9778WARNING:tensorflow:Early stopping conditioned on metric `val_loss` which is not available. Available metrics are: loss,accuracy\n",
      "\n",
      "Epoch 23: saving model to License_character_recognition.h5\n",
      "411/411 [==============================] - 600s 1s/step - loss: 0.0694 - accuracy: 0.9778\n",
      "Epoch 24/30\n",
      "411/411 [==============================] - ETA: 0s - loss: 0.0643 - accuracy: 0.9795WARNING:tensorflow:Early stopping conditioned on metric `val_loss` which is not available. Available metrics are: loss,accuracy\n",
      "\n",
      "Epoch 24: saving model to License_character_recognition.h5\n",
      "411/411 [==============================] - 599s 1s/step - loss: 0.0643 - accuracy: 0.9795\n",
      "Epoch 25/30\n",
      "411/411 [==============================] - ETA: 0s - loss: 0.0646 - accuracy: 0.9791WARNING:tensorflow:Early stopping conditioned on metric `val_loss` which is not available. Available metrics are: loss,accuracy\n",
      "\n",
      "Epoch 25: saving model to License_character_recognition.h5\n",
      "411/411 [==============================] - 602s 1s/step - loss: 0.0646 - accuracy: 0.9791\n",
      "Epoch 26/30\n",
      "411/411 [==============================] - ETA: 0s - loss: 0.0638 - accuracy: 0.9794WARNING:tensorflow:Early stopping conditioned on metric `val_loss` which is not available. Available metrics are: loss,accuracy\n",
      "\n",
      "Epoch 26: saving model to License_character_recognition.h5\n",
      "411/411 [==============================] - 602s 1s/step - loss: 0.0638 - accuracy: 0.9794\n",
      "Epoch 27/30\n",
      "411/411 [==============================] - ETA: 0s - loss: 0.0639 - accuracy: 0.9801WARNING:tensorflow:Early stopping conditioned on metric `val_loss` which is not available. Available metrics are: loss,accuracy\n",
      "\n",
      "Epoch 27: saving model to License_character_recognition.h5\n",
      "411/411 [==============================] - 604s 1s/step - loss: 0.0639 - accuracy: 0.9801\n",
      "Epoch 28/30\n",
      "411/411 [==============================] - ETA: 0s - loss: 0.0551 - accuracy: 0.9814WARNING:tensorflow:Early stopping conditioned on metric `val_loss` which is not available. Available metrics are: loss,accuracy\n",
      "\n",
      "Epoch 28: saving model to License_character_recognition.h5\n",
      "411/411 [==============================] - 602s 1s/step - loss: 0.0551 - accuracy: 0.9814\n",
      "Epoch 29/30\n",
      "411/411 [==============================] - ETA: 0s - loss: 0.0601 - accuracy: 0.9804WARNING:tensorflow:Early stopping conditioned on metric `val_loss` which is not available. Available metrics are: loss,accuracy\n",
      "\n",
      "Epoch 29: saving model to License_character_recognition.h5\n",
      "411/411 [==============================] - 598s 1s/step - loss: 0.0601 - accuracy: 0.9804\n",
      "Epoch 30/30\n",
      "411/411 [==============================] - ETA: 0s - loss: 0.0586 - accuracy: 0.9810WARNING:tensorflow:Early stopping conditioned on metric `val_loss` which is not available. Available metrics are: loss,accuracy\n",
      "\n",
      "Epoch 30: saving model to License_character_recognition.h5\n",
      "411/411 [==============================] - 628s 2s/step - loss: 0.0586 - accuracy: 0.9810\n"
     ]
    }
   ],
   "source": [
    "BATCH_SIZE = 64\n",
    "\n",
    "my_checkpointer = [\n",
    "                EarlyStopping(monitor='val_loss', patience=5, verbose=0),\n",
    "                ModelCheckpoint(filepath=\"License_character_recognition.h5\", verbose=1, save_weights_only=True)\n",
    "                ]\n",
    "\n",
    "result = model.fit(image_gen.flow(trainX, trainY, batch_size=BATCH_SIZE), \n",
    "                   steps_per_epoch=len(trainX) // BATCH_SIZE, \n",
    "                   validation_data=(testX, testY), \n",
    "                   validation_steps=len(testX) // BATCH_SIZE, \n",
    "                   epochs=EPOCHS, callbacks=my_checkpointer)"
   ]
  },
  {
   "cell_type": "markdown",
   "metadata": {
    "colab_type": "text",
    "id": "va-WvqTpcCJw"
   },
   "source": [
    "## Visualize training result"
   ]
  },
  {
   "cell_type": "code",
   "execution_count": 10,
   "metadata": {
    "colab": {
     "base_uri": "https://localhost:8080/",
     "height": 362
    },
    "colab_type": "code",
    "id": "qUYOQrVzcusF",
    "outputId": "66bf8f56-e839-40bb-f1b7-3d7307c7fe26"
   },
   "outputs": [
    {
     "data": {
      "text/plain": [
       "<matplotlib.legend.Legend at 0x150b083d210>"
      ]
     },
     "execution_count": 10,
     "metadata": {},
     "output_type": "execute_result"
    },
    {
     "data": {
      "image/png": "[encoded data removed]",
      "text/plain": [
       "<Figure size 1400x500 with 2 Axes>"
      ]
     },
     "metadata": {},
     "output_type": "display_data"
    }
   ],
   "source": [
    "\n",
    "fig = plt.figure(figsize=(14,5))\n",
    "grid=gridspec.GridSpec(ncols=2,nrows=1,figure=fig)\n",
    "fig.add_subplot(grid[0])\n",
    "plt.plot(result.history['accuracy'], label='training accuracy')\n",
    "plt.plot(result.history['val_accuracy'], label='val accuracy')\n",
    "plt.title('Accuracy')\n",
    "plt.xlabel('epochs')\n",
    "plt.ylabel('accuracy')\n",
    "plt.legend()\n",
    "\n",
    "fig.add_subplot(grid[1])\n",
    "plt.plot(result.history['loss'], label='training loss')\n",
    "plt.plot(result.history['val_loss'], label='val loss')\n",
    "plt.title('Loss')\n",
    "plt.xlabel('epochs')\n",
    "plt.ylabel('loss')\n",
    "plt.legend()\n",
    "\n",
    "#plt.savefig(\"Training_result.jpg\",dpi=300)"
   ]
  },
  {
   "cell_type": "code",
   "execution_count": 11,
   "metadata": {
    "colab": {},
    "colab_type": "code",
    "id": "w8JOq60Xw1UY"
   },
   "outputs": [],
   "source": [
    "# save model architectur as json file\n",
    "model_json = model.to_json()\n",
    "with open(\"MobileNets_character_recognition.json\", \"w\") as json_file:\n",
    "    json_file.write(model_json)"
   ]
  }
 ],
 "metadata": {
  "accelerator": "GPU",
  "colab": {
   "collapsed_sections": [],
   "name": "Train_license_character_recognition.ipynb",
   "provenance": [],
   "toc_visible": true
  },
  "kernelspec": {
   "display_name": "Python 3",
   "language": "python",
   "name": "python3"
  },
  "language_info": {
   "codemirror_mode": {
    "name": "ipython",
    "version": 3
   },
   "file_extension": ".py",
   "mimetype": "text/x-python",
   "name": "python",
   "nbconvert_exporter": "python",
   "pygments_lexer": "ipython3",
   "version": "3.11.5"
  }
 },
 "nbformat": 4,
 "nbformat_minor": 1
}
